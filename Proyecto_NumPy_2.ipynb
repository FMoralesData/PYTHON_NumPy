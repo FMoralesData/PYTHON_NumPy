{
 "cells": [
  {
   "cell_type": "markdown",
   "id": "4bf29367-074d-474c-9f0f-c16813a3aecc",
   "metadata": {},
   "source": [
    "## Generación de datos y redimensionado con NumPy"
   ]
  },
  {
   "cell_type": "markdown",
   "id": "109eb696-f035-4d3b-88f4-7d459003d7be",
   "metadata": {},
   "source": [
    "**Paso 1:** importar librería NumPy"
   ]
  },
  {
   "cell_type": "code",
   "execution_count": 2,
   "id": "e2956645-6699-4abc-be1e-596c6735b330",
   "metadata": {},
   "outputs": [
    {
     "name": "stdout",
     "output_type": "stream",
     "text": [
      "---EJERCICIO: Generación de datos y redimensionado---\n",
      "\n",
      "NumPy importado exitosamente. Versión = 1.26.4\n"
     ]
    }
   ],
   "source": [
    "import numpy as np\n",
    "print(\"---EJERCICIO: Generación de datos y redimensionado---\\n\")\n",
    "print(F\"NumPy importado exitosamente. Versión = {np.__version__}\")"
   ]
  },
  {
   "cell_type": "markdown",
   "id": "a15c131b-e592-4e1f-9d7c-5bf8cd0ac583",
   "metadata": {},
   "source": [
    "**Paso 2:** Crear un arreglo con **np.arange()** y redimensionarlo en una matriz 4x4"
   ]
  },
  {
   "cell_type": "code",
   "execution_count": 4,
   "id": "bb11a850-cdf6-41c0-a58f-5c5a7623282e",
   "metadata": {},
   "outputs": [
    {
     "name": "stdout",
     "output_type": "stream",
     "text": [
      "Arreglo creado y se llama 'x' = [ 1  2  3  4  5  6  7  8  9 10 11 12 13 14 15 16]\n",
      "Dimensionado original (ARREGLO UNIDIMENSIONAL) = (16,)\n",
      "Nueva dimensión de la matriz = 4x4\n",
      "Matriz nueva = \n",
      "[[ 1  2  3  4]\n",
      " [ 5  6  7  8]\n",
      " [ 9 10 11 12]\n",
      " [13 14 15 16]]\n",
      "Nuevo dimensionado (MATRIZ 4x4) = (4, 4)\n"
     ]
    }
   ],
   "source": [
    "x = np.arange(1, 17)\n",
    "print(F\"Arreglo creado y se llama 'x' = {x}\")\n",
    "print(F\"Dimensionado original (ARREGLO UNIDIMENSIONAL) = {x.shape}\")\n",
    "\n",
    "x_redimensionado = x.reshape(4, 4)\n",
    "print(F\"Nueva dimensión de la matriz = 4x4\")\n",
    "print(F\"Matriz nueva = \\n{x_redimensionado}\")\n",
    "print(F\"Nuevo dimensionado (MATRIZ 4x4) = {x_redimensionado.shape}\")"
   ]
  },
  {
   "cell_type": "markdown",
   "id": "95f6c9e8-bf44-466e-9a8b-fb85629ebc54",
   "metadata": {},
   "source": [
    "**Paso 3:** Crear un arreglo de 10 elementos equidistantes entre 0 y 100 usando **np.linspace()**"
   ]
  },
  {
   "cell_type": "code",
   "execution_count": 5,
   "id": "7b6adcc0-6938-47f4-a7f1-910caea7953b",
   "metadata": {},
   "outputs": [
    {
     "name": "stdout",
     "output_type": "stream",
     "text": [
      "Arreglo creado y se llama 'y' = \n",
      "[  0.          11.11111111  22.22222222  33.33333333  44.44444444\n",
      "  55.55555556  66.66666667  77.77777778  88.88888889 100.        ]\n",
      "Dimensionado original = (10,)\n"
     ]
    }
   ],
   "source": [
    "y = np.linspace(0, 100, 10)\n",
    "print(F\"Arreglo creado y se llama 'y' = \\n{y}\")\n",
    "print(F\"Dimensionado original = {y.shape}\")"
   ]
  },
  {
   "cell_type": "markdown",
   "id": "f1af7170-0ac1-4566-8c6d-425334277402",
   "metadata": {},
   "source": [
    "**Paso 4**: Crear una matriz aleatoria 3x3 con enteros entre 1 y 20"
   ]
  },
  {
   "cell_type": "code",
   "execution_count": 6,
   "id": "0e186d91-068d-4668-895e-42e9ce23bdee",
   "metadata": {},
   "outputs": [
    {
     "name": "stdout",
     "output_type": "stream",
     "text": [
      "Arreglo creado y se llama 'z' = \n",
      "[[ 9  8  8]\n",
      " [ 9 13 13]\n",
      " [ 3  4 14]]\n",
      "Dimensionado original = (3, 3)\n"
     ]
    }
   ],
   "source": [
    "# Si yo quisiera trabajar con reproducibilidad\n",
    "z = np.random.randint(1, 21, size=(3, 3))\n",
    "print(F\"Arreglo creado y se llama 'z' = \\n{z}\")\n",
    "print(F\"Dimensionado original = {z.shape}\")"
   ]
  },
  {
   "cell_type": "markdown",
   "id": "1b1d8ca0-fcb9-4544-896e-830e7158bed1",
   "metadata": {},
   "source": [
    "**Paso 5:** Aplicar funciones matemáticas"
   ]
  },
  {
   "cell_type": "code",
   "execution_count": 7,
   "id": "402865ca-44e8-4e3b-ad3c-079c290747bb",
   "metadata": {},
   "outputs": [
    {
     "name": "stdout",
     "output_type": "stream",
     "text": [
      "- Aplicando raíz cuadrada a la matriz 'x_redimensionado'\n",
      "Matriz original = \n",
      "[[ 1  2  3  4]\n",
      " [ 5  6  7  8]\n",
      " [ 9 10 11 12]\n",
      " [13 14 15 16]]\n",
      "Raíz cuadrada calculada = \n",
      "[[1.         1.41421356 1.73205081 2.        ]\n",
      " [2.23606798 2.44948974 2.64575131 2.82842712]\n",
      " [3.         3.16227766 3.31662479 3.46410162]\n",
      " [3.60555128 3.74165739 3.87298335 4.        ]]\n"
     ]
    }
   ],
   "source": [
    "print(\"- Aplicando raíz cuadrada a la matriz 'x_redimensionado'\")\n",
    "x_sqrt = np.sqrt(x_redimensionado)\n",
    "print(F\"Matriz original = \\n{x_redimensionado}\")\n",
    "print(F\"Raíz cuadrada calculada = \\n{x_sqrt}\")"
   ]
  },
  {
   "cell_type": "code",
   "execution_count": 8,
   "id": "75322389-0345-4217-a7ab-a0ce915bca6c",
   "metadata": {},
   "outputs": [
    {
     "name": "stdout",
     "output_type": "stream",
     "text": [
      "- Aplicando logaritmo natural a la matriz 'x_redimensionado'\n",
      "Matriz original = \n",
      "[[ 1  2  3  4]\n",
      " [ 5  6  7  8]\n",
      " [ 9 10 11 12]\n",
      " [13 14 15 16]]\n",
      "Logaritmo natural calculado = \n",
      "[[0.         0.69314718 1.09861229 1.38629436]\n",
      " [1.60943791 1.79175947 1.94591015 2.07944154]\n",
      " [2.19722458 2.30258509 2.39789527 2.48490665]\n",
      " [2.56494936 2.63905733 2.7080502  2.77258872]]\n"
     ]
    }
   ],
   "source": [
    "print(\"- Aplicando logaritmo natural a la matriz 'x_redimensionado'\")\n",
    "x_log = np.log(x_redimensionado)\n",
    "print(F\"Matriz original = \\n{x_redimensionado}\")\n",
    "print(F\"Logaritmo natural calculado = \\n{x_log}\")"
   ]
  },
  {
   "cell_type": "markdown",
   "id": "1de56308-bc43-4078-bcfc-3e1c0c719244",
   "metadata": {},
   "source": [
    "**Paso 6:** Diferencias entre aplicar funciones en arreglos de enteros vs flotantes"
   ]
  },
  {
   "cell_type": "code",
   "execution_count": 9,
   "id": "97ceb526-9eae-4727-9420-6b4af0f0c2b5",
   "metadata": {},
   "outputs": [
    {
     "name": "stdout",
     "output_type": "stream",
     "text": [
      "- Creación de arreglos para el ejemplo\n",
      "Arreglo de enteros = [ 1  4  9 16] (dtype = int32)\n",
      "Arreglo de flotantes = [ 1.  4.  9. 16.] (dtype = float64)\n",
      "\n",
      "- Aplicando el cálculo de la raíz cuadrada\n",
      "Aplicando raíz cuadrada al arreglo de enteros: [1. 2. 3. 4.] (dtype = float64)\n",
      "Aplicando raíz cuadrada al arreglo de flotantes: [1. 2. 3. 4.] (dtype = float64)\n",
      "\n",
      "- Aplicando el cálculo del logaritmo natural\n",
      "Aplicando logaritmo al arreglo de enteros: [0.         1.38629436 2.19722458 2.77258872] (dtype = float64)\n",
      "Aplicando logaritmo al arreglo de flotantes: [0.         1.38629436 2.19722458 2.77258872] (dtype = float64)\n"
     ]
    }
   ],
   "source": [
    "print(\"- Creación de arreglos para el ejemplo\")\n",
    "arr_int = np.array([1,4,9,16], dtype=int)\n",
    "arr_float = np.array([1.0,4.0,9.0,16.0], dtype=float)\n",
    "\n",
    "print(F\"Arreglo de enteros = {arr_int} (dtype = {arr_int.dtype})\")\n",
    "print(F\"Arreglo de flotantes = {arr_float} (dtype = {arr_float.dtype})\")\n",
    "\n",
    "print(\"\\n- Aplicando el cálculo de la raíz cuadrada\")\n",
    "sqrt_int = np.sqrt(arr_int)\n",
    "sqrt_float = np.sqrt(arr_float)\n",
    "print(F\"Aplicando raíz cuadrada al arreglo de enteros: {sqrt_int} (dtype = {sqrt_int.dtype})\")\n",
    "print(F\"Aplicando raíz cuadrada al arreglo de flotantes: {sqrt_float} (dtype = {sqrt_float.dtype})\")\n",
    "\n",
    "print(\"\\n- Aplicando el cálculo del logaritmo natural\")\n",
    "log_int = np.log(arr_int)\n",
    "log_float = np.log(arr_float)\n",
    "print(F\"Aplicando logaritmo al arreglo de enteros: {log_int} (dtype = {log_int.dtype})\")\n",
    "print(F\"Aplicando logaritmo al arreglo de flotantes: {log_float} (dtype = {log_float.dtype})\")"
   ]
  },
  {
   "cell_type": "code",
   "execution_count": null,
   "id": "46ed9a9d-1964-4d66-a665-7f5b80bc2d5b",
   "metadata": {},
   "outputs": [],
   "source": []
  }
 ],
 "metadata": {
  "kernelspec": {
   "display_name": "Python 3 (ipykernel)",
   "language": "python",
   "name": "python3"
  },
  "language_info": {
   "codemirror_mode": {
    "name": "ipython",
    "version": 3
   },
   "file_extension": ".py",
   "mimetype": "text/x-python",
   "name": "python",
   "nbconvert_exporter": "python",
   "pygments_lexer": "ipython3",
   "version": "3.12.7"
  }
 },
 "nbformat": 4,
 "nbformat_minor": 5
}
