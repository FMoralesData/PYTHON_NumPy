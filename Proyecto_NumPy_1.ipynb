{
 "cells": [
  {
   "cell_type": "markdown",
   "id": "b12dbc46-2549-48d2-aab3-38e9b2102b55",
   "metadata": {},
   "source": [
    "**Paso 1:** Importar librería NumPy"
   ]
  },
  {
   "cell_type": "code",
   "execution_count": 1,
   "id": "16b37d9e-85b4-4f26-8d62-0cc3d70cc16b",
   "metadata": {},
   "outputs": [
    {
     "name": "stdout",
     "output_type": "stream",
     "text": [
      "NumPy importado exitosamente. Versión = 1.26.4\n"
     ]
    }
   ],
   "source": [
    "import numpy as np\n",
    "print(F\"NumPy importado exitosamente. Versión = {np.__version__}\")"
   ]
  },
  {
   "cell_type": "markdown",
   "id": "f5f9b442-7aa1-46be-8914-864f5466947f",
   "metadata": {},
   "source": [
    "**Paso 2:** Crear una matriz de 3x3 con números enteros del 1-9"
   ]
  },
  {
   "cell_type": "code",
   "execution_count": 2,
   "id": "256a902b-c186-43b2-a081-955bcc716aa2",
   "metadata": {},
   "outputs": [
    {
     "name": "stdout",
     "output_type": "stream",
     "text": [
      "Matriz original 'a' =\n",
      "[[1 2 3]\n",
      " [4 5 6]\n",
      " [7 8 9]]\n",
      "Dimensión de la matriz 'a' = (3, 3)\n",
      "Tipo de datos: int32\n"
     ]
    }
   ],
   "source": [
    "a = np.array([[1, 2, 3],[4, 5, 6],[7, 8, 9]])\n",
    "print(F\"Matriz original 'a' =\\n{a}\")\n",
    "print(F\"Dimensión de la matriz 'a' = {a.shape}\")\n",
    "print(F\"Tipo de datos: {a.dtype}\")"
   ]
  },
  {
   "cell_type": "markdown",
   "id": "d0a38419-7ba1-477d-88fa-0ed51a7c817f",
   "metadata": {},
   "source": [
    "**Paso 3:** Sumar 10 a cada elemento de la matriz"
   ]
  },
  {
   "cell_type": "code",
   "execution_count": 3,
   "id": "1a53669e-5b95-47cc-865b-5457c6d855c7",
   "metadata": {},
   "outputs": [
    {
     "name": "stdout",
     "output_type": "stream",
     "text": [
      "--Suma a la matriz original de 10 por cada elemento--\n",
      "[[11 12 13]\n",
      " [14 15 16]\n",
      " [17 18 19]]\n"
     ]
    }
   ],
   "source": [
    "a_suma = a + 10\n",
    "print(\"--Suma a la matriz original de 10 por cada elemento--\")\n",
    "print(a_suma)"
   ]
  },
  {
   "cell_type": "markdown",
   "id": "bf6337e9-bcdd-4ade-9f42-05640a7d4e22",
   "metadata": {},
   "source": [
    "**Paso 4:** Multiplicar por 2 cada elemento de la matriz"
   ]
  },
  {
   "cell_type": "code",
   "execution_count": 4,
   "id": "cfc41fa7-004d-4d27-bc91-8761d66a284e",
   "metadata": {},
   "outputs": [
    {
     "name": "stdout",
     "output_type": "stream",
     "text": [
      "--Multiplicación a la matriz original por 2 en cada elemento--\n",
      "[[ 2  4  6]\n",
      " [ 8 10 12]\n",
      " [14 16 18]]\n"
     ]
    }
   ],
   "source": [
    "a_multiplicada = a * 2\n",
    "print(\"--Multiplicación a la matriz original por 2 en cada elemento--\")\n",
    "print(a_multiplicada)"
   ]
  },
  {
   "cell_type": "markdown",
   "id": "9c35dce2-9577-4f30-98ea-0c416333b1d6",
   "metadata": {},
   "source": [
    "**Paso 5:** Extracción de elementos mayores a 5 con selección condicional"
   ]
  },
  {
   "cell_type": "code",
   "execution_count": 6,
   "id": "f2f86423-26e0-4dff-85fb-dc1900ee8ef9",
   "metadata": {},
   "outputs": [
    {
     "name": "stdout",
     "output_type": "stream",
     "text": [
      "--La condición es que los elementos sean mayores a 5--\n",
      "[[False False False]\n",
      " [False False  True]\n",
      " [ True  True  True]]\n",
      "--Elementos que son mayores a 5--\n",
      "[6 7 8 9]\n"
     ]
    }
   ],
   "source": [
    "a_condicional = a > 5\n",
    "print(\"--La condición es que los elementos sean mayores a 5--\")\n",
    "print(a_condicional)\n",
    "print(\"--Elementos que son mayores a 5--\")\n",
    "elementos_mayores = a[a_condicional]\n",
    "print(elementos_mayores)"
   ]
  },
  {
   "cell_type": "markdown",
   "id": "d4472bf3-2970-4c88-a999-bcfb6af48d2b",
   "metadata": {},
   "source": [
    "**Paso 6:** Asigna la matriz 'matriz_original' nueva matriz 'referencia' y modifica un valor de 'referencia' para ver el comportamiento"
   ]
  },
  {
   "cell_type": "code",
   "execution_count": 10,
   "id": "b9e613c4-9a59-4cbd-98ac-5ffe7b604cda",
   "metadata": {},
   "outputs": [
    {
     "name": "stdout",
     "output_type": "stream",
     "text": [
      "DEMOSTRACIÓN: REFERENCIAS vs COPIAS EN NUMPY\n",
      "==================================================\n",
      "\n",
      "PARTE 1: Creación de matriz original\n",
      "--------------------------------------------------\n",
      "Matriz original creada:\n",
      "Contenido:\n",
      "[[1 2 3]\n",
      " [4 5 6]\n",
      " [7 8 9]]\n",
      "ID en memoria: 2035343323280\n",
      "\n",
      "PARTE 2: Asignación por referencia\n",
      "--------------------------------------------------\n",
      "Después de hacer: referencia = matriz_original\n",
      "ID de matriz_original: 2035343323280\n",
      "ID de referencia: 2035343323280\n",
      "¿Son el mismo objeto? True\n",
      "¿Son iguales en contenido? True\n",
      "\n",
      "Contenido de ambas matrices:\n",
      "Matriz original:\n",
      "[[1 2 3]\n",
      " [4 5 6]\n",
      " [7 8 9]]\n",
      "Referencia:\n",
      "[[1 2 3]\n",
      " [4 5 6]\n",
      " [7 8 9]]\n",
      "\n",
      "PARTE 3: Modificando referencia - ¡Efecto sorpresa!\n",
      "--------------------------------------------------\n",
      "Ejecutando: referencia[1, 1] = 99\n",
      "\n",
      "RESULTADO INESPERADO:\n",
      "Matriz original (¡se modificó también!):\n",
      "[[ 1  2  3]\n",
      " [ 4 99  6]\n",
      " [ 7  8  9]]\n",
      "Referencia:\n",
      "[[ 1  2  3]\n",
      " [ 4 99  6]\n",
      " [ 7  8  9]]\n",
      "\n",
      "ANÁLISIS:\n",
      "• 'matriz_original' y 'referencia' son el mismo objeto en memoria\n",
      "• Modificar 'referencia' también modifica 'matriz_original'\n",
      "• Esto puede causar errores difíciles de detectar en programas grandes\n"
     ]
    }
   ],
   "source": [
    "print(\"DEMOSTRACIÓN: REFERENCIAS vs COPIAS EN NUMPY\")\n",
    "print(\"=\" * 50)\n",
    "\n",
    "# ============================================================================\n",
    "# PARTE 1: CREACIÓN DE MATRIZ ORIGINAL\n",
    "# ============================================================================\n",
    "print(\"\\nPARTE 1: Creación de matriz original\")\n",
    "print(\"-\" * 50)\n",
    "\n",
    "# Crear matriz original\n",
    "matriz_original = np.array([[1, 2, 3],\n",
    "                           [4, 5, 6],\n",
    "                           [7, 8, 9]])\n",
    "\n",
    "print(\"Matriz original creada:\")\n",
    "print(f\"Contenido:\\n{matriz_original}\")\n",
    "print(f\"ID en memoria: {id(matriz_original)}\")\n",
    "\n",
    "# ============================================================================\n",
    "# PARTE 2: DEMOSTRACIÓN DE REFERENCIA (¡PELIGRO!)\n",
    "# ============================================================================\n",
    "print(\"\\nPARTE 2: Asignación por referencia\")\n",
    "print(\"-\" * 50)\n",
    "\n",
    "# IMPORTANTE: Esto NO crea una copia, sino una referencia\n",
    "# 'referencia' apunta al mismo objeto en memoria que 'matriz_original'\n",
    "referencia = matriz_original\n",
    "\n",
    "print(\"Después de hacer: referencia = matriz_original\")\n",
    "print(f\"ID de matriz_original: {id(matriz_original)}\")\n",
    "print(f\"ID de referencia: {id(referencia)}\")\n",
    "print(f\"¿Son el mismo objeto? {matriz_original is referencia}\")  # True\n",
    "print(f\"¿Son iguales en contenido? {np.array_equal(matriz_original, referencia)}\")  # True\n",
    "\n",
    "print(\"\\nContenido de ambas matrices:\")\n",
    "print(f\"Matriz original:\\n{matriz_original}\")\n",
    "print(f\"Referencia:\\n{referencia}\")\n",
    "\n",
    "# ============================================================================\n",
    "# PARTE 3: MODIFICAR REFERENCIA - ¡EFECTO SORPRESA!\n",
    "# ============================================================================\n",
    "print(\"\\nPARTE 3: Modificando referencia - ¡Efecto sorpresa!\")\n",
    "print(\"-\" * 50)\n",
    "\n",
    "# Modificamos un elemento de la referencia\n",
    "# Como es una referencia al mismo objeto, esto también cambia la matriz original\n",
    "print(\"Ejecutando: referencia[1, 1] = 99\")\n",
    "referencia[1, 1] = 99\n",
    "\n",
    "print(\"\\nRESULTADO INESPERADO:\")\n",
    "print(\"Matriz original (¡se modificó también!):\")\n",
    "print(f\"{matriz_original}\")\n",
    "print(\"Referencia:\")\n",
    "print(f\"{referencia}\")\n",
    "\n",
    "print(\"\\nANÁLISIS:\")\n",
    "print(\"• 'matriz_original' y 'referencia' son el mismo objeto en memoria\")\n",
    "print(\"• Modificar 'referencia' también modifica 'matriz_original'\")\n",
    "print(\"• Esto puede causar errores difíciles de detectar en programas grandes\")"
   ]
  },
  {
   "cell_type": "markdown",
   "id": "7f98d401-95d2-45e8-aebe-ecf997022b9c",
   "metadata": {},
   "source": [
    "**Paso 7:** Mismo ejercicio que el Paso 6 pero ahora utilizando la función copy() de NumPy para ver la diferencia de comportamiento"
   ]
  },
  {
   "cell_type": "code",
   "execution_count": 11,
   "id": "93748572-fd71-4fbc-9895-50f1a6ee9da4",
   "metadata": {},
   "outputs": [
    {
     "name": "stdout",
     "output_type": "stream",
     "text": [
      "\n",
      "PARTE 1: Solución usando copy()\n",
      "--------------------------------------------------\n",
      "Después de hacer: copia_independiente = matriz_original.copy()\n",
      "ID de matriz_original: 2035343324816\n",
      "ID de copia_independiente: 2035343322224\n",
      "¿Son el mismo objeto? False\n",
      "¿Son iguales en contenido? True\n",
      "\n",
      "Contenido inicial:\n",
      "Matriz original:\n",
      "[[1 2 3]\n",
      " [4 5 6]\n",
      " [7 8 9]]\n",
      "Copia independiente:\n",
      "[[1 2 3]\n",
      " [4 5 6]\n",
      " [7 8 9]]\n",
      "\n",
      "PARTE 2: Modificando copia independiente\n",
      "--------------------------------------------------\n",
      "Ejecutando: copia_independiente[1, 1] = 99\n",
      "\n",
      "RESULTADO ESPERADO:\n",
      "Matriz original (NO se modificó):\n",
      "[[1 2 3]\n",
      " [4 5 6]\n",
      " [7 8 9]]\n",
      "Copia independiente (solo esta cambió):\n",
      "[[ 1  2  3]\n",
      " [ 4 99  6]\n",
      " [ 7  8  9]]\n",
      "\n",
      "ANÁLISIS:\n",
      "• 'matriz_original' y 'copia_independiente' son objetos diferentes\n",
      "• Modificar 'copia_independiente' NO afecta a 'matriz_original'\n",
      "• Esta es la forma segura de trabajar con copias\n",
      "\n",
      "PARTE 3: Diferentes métodos de copia\n",
      "--------------------------------------------------\n",
      "Matriz de prueba:\n",
      "ID: 2035343322608\n",
      "Contenido:\n",
      "[[10 20]\n",
      " [30 40]]\n",
      "\n",
      "Método 1 - .copy():\n",
      "ID: 2035343324528\n",
      "¿Es independiente? True\n",
      "\n",
      "Método 2 - np.array():\n",
      "ID: 2035343322320\n",
      "¿Es independiente? True\n",
      "\n",
      "Método 3 - np.copy():\n",
      "ID: 2035343325200\n",
      "¿Es independiente? True\n",
      "\n",
      "PARTE 4: Prueba final de independencia\n",
      "--------------------------------------------------\n",
      "Modificando matriz_prueba[0, 0] = 999\n",
      "\n",
      "Resultados después de modificar la matriz original:\n",
      "Matriz original: 999 (cambió)\n",
      "Copia método 1: 10 (no cambió)\n",
      "Copia método 2: 10 (no cambió)\n",
      "Copia método 3: 10 (no cambió)\n",
      "\n",
      "RESUMEN Y MEJORES PRÁCTICAS\n",
      "--------------------------------------------------\n",
      "REGLAS FUNDAMENTALES:\n",
      "1. 'b = a' crea una REFERENCIA al mismo objeto\n",
      "2. 'c = a.copy()' crea una COPIA INDEPENDIENTE\n",
      "3. Modificar una referencia afecta al objeto original\n",
      "4. Modificar una copia NO afecta al objeto original\n",
      "\n",
      "MÉTODOS DE COPIA RECOMENDADOS:\n",
      "• matriz.copy() - Método más común y directo\n",
      "• np.copy(matriz) - Función de NumPy\n",
      "• np.array(matriz) - Constructor (también hace copia)\n",
      "\n",
      "CUÁNDO USAR CADA UNO:\n",
      "• Usa REFERENCIAS cuando quieras que los cambios se reflejen\n",
      "• Usa COPIAS cuando necesites modificar sin afectar el original\n",
      "• En caso de duda, usa .copy() para evitar sorpresas\n"
     ]
    }
   ],
   "source": [
    "# ============================================================================\n",
    "# PARTE 1: SOLUCIÓN - USAR COPY() PARA COPIA INDEPENDIENTE\n",
    "# ============================================================================\n",
    "print(\"\\nPARTE 1: Solución usando copy()\")\n",
    "print(\"-\" * 50)\n",
    "\n",
    "# Restaurar matriz original para la siguiente demostración\n",
    "matriz_original = np.array([[1, 2, 3],\n",
    "                           [4, 5, 6],\n",
    "                           [7, 8, 9]])\n",
    "\n",
    "# NumPy tiene una función para crear una copia real\n",
    "# copy() crea un nuevo objeto independiente en memoria\n",
    "copia_independiente = matriz_original.copy()\n",
    "\n",
    "print(\"Después de hacer: copia_independiente = matriz_original.copy()\")\n",
    "print(f\"ID de matriz_original: {id(matriz_original)}\")\n",
    "print(f\"ID de copia_independiente: {id(copia_independiente)}\")\n",
    "print(f\"¿Son el mismo objeto? {matriz_original is copia_independiente}\")  # False\n",
    "print(f\"¿Son iguales en contenido? {np.array_equal(matriz_original, copia_independiente)}\")  # True\n",
    "\n",
    "print(\"\\nContenido inicial:\")\n",
    "print(f\"Matriz original:\\n{matriz_original}\")\n",
    "print(f\"Copia independiente:\\n{copia_independiente}\")\n",
    "\n",
    "# ============================================================================\n",
    "# PARTE 2: MODIFICAR COPIA INDEPENDIENTE\n",
    "# ============================================================================\n",
    "print(\"\\nPARTE 2: Modificando copia independiente\")\n",
    "print(\"-\" * 50)\n",
    "\n",
    "# Modificamos la copia independiente\n",
    "print(\"Ejecutando: copia_independiente[1, 1] = 99\")\n",
    "copia_independiente[1, 1] = 99\n",
    "\n",
    "print(\"\\nRESULTADO ESPERADO:\")\n",
    "print(\"Matriz original (NO se modificó):\")\n",
    "print(f\"{matriz_original}\")\n",
    "print(\"Copia independiente (solo esta cambió):\")\n",
    "print(f\"{copia_independiente}\")\n",
    "\n",
    "print(\"\\nANÁLISIS:\")\n",
    "print(\"• 'matriz_original' y 'copia_independiente' son objetos diferentes\")\n",
    "print(\"• Modificar 'copia_independiente' NO afecta a 'matriz_original'\")\n",
    "print(\"• Esta es la forma segura de trabajar con copias\")\n",
    "\n",
    "# ============================================================================\n",
    "# PARTE 3: COMPARACIÓN DE MÉTODOS DE COPIA\n",
    "# ============================================================================\n",
    "print(\"\\nPARTE 3: Diferentes métodos de copia\")\n",
    "print(\"-\" * 50)\n",
    "\n",
    "# Crear matriz de prueba\n",
    "matriz_prueba = np.array([[10, 20], [30, 40]])\n",
    "\n",
    "# Diferentes formas de crear copias independientes\n",
    "copia_metodo1 = matriz_prueba.copy()           # Método .copy()\n",
    "copia_metodo2 = np.array(matriz_prueba)        # Constructor np.array()\n",
    "copia_metodo3 = np.copy(matriz_prueba)         # Función np.copy()\n",
    "\n",
    "print(\"Matriz de prueba:\")\n",
    "print(f\"ID: {id(matriz_prueba)}\")\n",
    "print(f\"Contenido:\\n{matriz_prueba}\")\n",
    "\n",
    "print(f\"\\nMétodo 1 - .copy():\")\n",
    "print(f\"ID: {id(copia_metodo1)}\")\n",
    "print(f\"¿Es independiente? {matriz_prueba is not copia_metodo1}\")\n",
    "\n",
    "print(f\"\\nMétodo 2 - np.array():\")\n",
    "print(f\"ID: {id(copia_metodo2)}\")\n",
    "print(f\"¿Es independiente? {matriz_prueba is not copia_metodo2}\")\n",
    "\n",
    "print(f\"\\nMétodo 3 - np.copy():\")\n",
    "print(f\"ID: {id(copia_metodo3)}\")\n",
    "print(f\"¿Es independiente? {matriz_prueba is not copia_metodo3}\")\n",
    "\n",
    "# ============================================================================\n",
    "# PARTE 4: PRUEBA FINAL - VERIFICACIÓN DE INDEPENDENCIA\n",
    "# ============================================================================\n",
    "print(\"\\nPARTE 4: Prueba final de independencia\")\n",
    "print(\"-\" * 50)\n",
    "\n",
    "# Modificar matriz original y verificar que las copias no se afecten\n",
    "print(\"Modificando matriz_prueba[0, 0] = 999\")\n",
    "matriz_prueba[0, 0] = 999\n",
    "\n",
    "print(\"\\nResultados después de modificar la matriz original:\")\n",
    "print(f\"Matriz original: {matriz_prueba[0, 0]} (cambió)\")\n",
    "print(f\"Copia método 1: {copia_metodo1[0, 0]} (no cambió)\")\n",
    "print(f\"Copia método 2: {copia_metodo2[0, 0]} (no cambió)\")\n",
    "print(f\"Copia método 3: {copia_metodo3[0, 0]} (no cambió)\")\n",
    "\n",
    "# ============================================================================\n",
    "# RESUMEN Y MEJORES PRÁCTICAS\n",
    "# ============================================================================\n",
    "print(\"\\nRESUMEN Y MEJORES PRÁCTICAS\")\n",
    "print(\"-\" * 50)\n",
    "\n",
    "print(\"REGLAS FUNDAMENTALES:\")\n",
    "print(\"1. 'b = a' crea una REFERENCIA al mismo objeto\")\n",
    "print(\"2. 'c = a.copy()' crea una COPIA INDEPENDIENTE\")\n",
    "print(\"3. Modificar una referencia afecta al objeto original\")\n",
    "print(\"4. Modificar una copia NO afecta al objeto original\")\n",
    "\n",
    "print(\"\\nMÉTODOS DE COPIA RECOMENDADOS:\")\n",
    "print(\"• matriz.copy() - Método más común y directo\")\n",
    "print(\"• np.copy(matriz) - Función de NumPy\")\n",
    "print(\"• np.array(matriz) - Constructor (también hace copia)\")\n",
    "\n",
    "print(\"\\nCUÁNDO USAR CADA UNO:\")\n",
    "print(\"• Usa REFERENCIAS cuando quieras que los cambios se reflejen\")\n",
    "print(\"• Usa COPIAS cuando necesites modificar sin afectar el original\")\n",
    "print(\"• En caso de duda, usa .copy() para evitar sorpresas\")"
   ]
  }
 ],
 "metadata": {
  "kernelspec": {
   "display_name": "Python 3 (ipykernel)",
   "language": "python",
   "name": "python3"
  },
  "language_info": {
   "codemirror_mode": {
    "name": "ipython",
    "version": 3
   },
   "file_extension": ".py",
   "mimetype": "text/x-python",
   "name": "python",
   "nbconvert_exporter": "python",
   "pygments_lexer": "ipython3",
   "version": "3.12.7"
  }
 },
 "nbformat": 4,
 "nbformat_minor": 5
}
